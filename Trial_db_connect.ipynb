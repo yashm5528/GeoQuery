{
 "cells": [
  {
   "cell_type": "code",
   "execution_count": 1,
   "metadata": {},
   "outputs": [],
   "source": [
    "import sqlite3"
   ]
  },
  {
   "cell_type": "code",
   "execution_count": 9,
   "metadata": {},
   "outputs": [],
   "source": [
    "from langchain.agents import create_sql_agent\n",
    "from langchain.agents.agent_toolkits import SQLDatabaseToolkit\n",
    "from langchain.agents.agent_types import AgentType\n",
    "from langchain.llms.openai import OpenAI\n",
    "from langchain.sql_database import SQLDatabase"
   ]
  },
  {
   "cell_type": "code",
   "execution_count": 13,
   "metadata": {},
   "outputs": [
    {
     "name": "stderr",
     "output_type": "stream",
     "text": [
      "c:\\Users\\anark\\AppData\\Local\\Programs\\Python\\Python39\\lib\\site-packages\\langchain_community\\utilities\\sql_database.py:111: SAWarning: Could not instantiate type <class 'sqlalchemy.sql.sqltypes.INTEGER'> with reflected arguments ['11']; using no arguments.\n",
      "  self._metadata.reflect(\n"
     ]
    }
   ],
   "source": [
    "from langchain_community.utilities import SQLDatabase, SQLDatabaseToolkit\n",
    "from langchain_community.llm import OpenAI\n",
    "import requests\n",
    "\n",
    "# Connect to the SQLite database\n",
    "db = SQLDatabase.from_uri(\"sqlite:///C:/Users/anark/Desktop/Capstone/Implementation/GeoQuery.db\")\n",
    "toolkit = SQLDatabaseToolkit(db=db, llm=OpenAI(temperature=0))\n",
    "\n",
    "# Prepare the OpenAI API call\n",
    "openai_url = \"http://localhost:8000/v1/chat/completions\"\n",
    "openai_payload = {\n",
    "    \"model\": \"llama\",\n",
    "    \"messages\": [{\"role\": \"user\", \"content\": \"Hello there!\"}],\n",
    "    \"max_tokens\": 30,\n",
    "    \"top_p\": 0.9,\n",
    "    \"temperature\": 0.9,\n",
    "    \"stop\": [\"\\n\"]\n",
    "}\n",
    "\n",
    "# Make the OpenAI API call\n",
    "openai_response = requests.post(openai_url, json=openai_payload)\n",
    "openai_result = openai_response.json()\n",
    "\n",
    "# Use the result as input for the SQLDatabaseToolkit\n",
    "sql_toolkit_response = toolkit.process(openai_result)\n",
    "\n",
    "# Print the final response\n",
    "print(sql_toolkit_response)\n"
   ]
  },
  {
   "cell_type": "code",
   "execution_count": null,
   "metadata": {},
   "outputs": [],
   "source": []
  }
 ],
 "metadata": {
  "kernelspec": {
   "display_name": "Python 3",
   "language": "python",
   "name": "python3"
  },
  "language_info": {
   "codemirror_mode": {
    "name": "ipython",
    "version": 3
   },
   "file_extension": ".py",
   "mimetype": "text/x-python",
   "name": "python",
   "nbconvert_exporter": "python",
   "pygments_lexer": "ipython3",
   "version": "3.9.10"
  }
 },
 "nbformat": 4,
 "nbformat_minor": 2
}
