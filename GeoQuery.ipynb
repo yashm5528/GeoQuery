{
 "cells": [
  {
   "cell_type": "code",
   "execution_count": 3,
   "metadata": {},
   "outputs": [],
   "source": [
    "import sqlite3"
   ]
  },
  {
   "cell_type": "code",
   "execution_count": 10,
   "metadata": {},
   "outputs": [],
   "source": [
    "'''\n",
    "## DB connection\n",
    "conn = sqlite3.connect('GeoQuery.db')\n",
    "\n",
    "# Create a cursor object to execute SQL commands\n",
    "cursor = conn.cursor()\n",
    "\n",
    "# Read and execute SQL commands from the .sql file\n",
    "with open('C:\\\\Users\\\\anark\\\\Desktop\\\\Capstone\\\\GeoQuery\\\\geography-db.sql', 'r') as sql_file:\n",
    "    sql_commands = sql_file.read()\n",
    "    cursor.executescript(sql_commands)\n",
    "\n",
    "## Commit changes and close the connection\n",
    "conn.commit()\n",
    "conn.close()\n",
    "'''\n"
   ]
  },
  {
   "cell_type": "code",
   "execution_count": 19,
   "metadata": {},
   "outputs": [
    {
     "name": "stdout",
     "output_type": "stream",
     "text": [
      "('anchorage', 174431, 'usa', 'alaska')\n",
      "('anaheim', 219311, 'usa', 'california')\n",
      "('alhambra', 64767, 'usa', 'california')\n",
      "('alameda', 63852, 'usa', 'california')\n",
      "('aurora', 158588, 'usa', 'colorado')\n",
      "('arvada', 84576, 'usa', 'colorado')\n",
      "('atlanta', 425022, 'usa', 'georgia')\n",
      "('albany', 74425, 'usa', 'georgia')\n",
      "('aurora', 81293, 'usa', 'illinois')\n",
      "('arlington heights', 66116, 'usa', 'illinois')\n",
      "('anderson', 64695, 'usa', 'indiana')\n",
      "('ann arbor', 107969, 'usa', 'michigan')\n",
      "('albuquerque', 331767, 'usa', 'new mexico')\n",
      "('albany', 101727, 'usa', 'new york')\n",
      "('akron', 237177, 'usa', 'ohio')\n",
      "('allentown', 103758, 'usa', 'pennsylvania')\n",
      "('abingdon', 59084, 'usa', 'pennsylvania')\n",
      "('altoona', 57078, 'usa', 'pennsylvania')\n",
      "('austin', 345496, 'usa', 'texas')\n",
      "('arlington', 160123, 'usa', 'texas')\n",
      "('amarillo', 149230, 'usa', 'texas')\n",
      "('abilene', 98315, 'usa', 'texas')\n",
      "('arlington', 152599, 'usa', 'virginia')\n",
      "('alexandria', 103217, 'usa', 'virginia')\n",
      "('appleton', 58913, 'usa', 'wisconsin')\n"
     ]
    }
   ],
   "source": [
    "conn = sqlite3.connect('GeoQuery.db')\n",
    "\n",
    "cursor = conn.cursor()\n",
    "\n",
    "cursor.execute(\"SELECT * FROM city WHERE city_name LIKE 'a%'\")\n",
    "\n",
    "rows = cursor.fetchall()\n",
    "\n",
    "for row in rows:\n",
    "    print(row)\n",
    "\n",
    "#cursor.close()\n",
    "#conn.close()"
   ]
  },
  {
   "cell_type": "code",
   "execution_count": null,
   "metadata": {},
   "outputs": [],
   "source": []
  }
 ],
 "metadata": {
  "kernelspec": {
   "display_name": "Python 3",
   "language": "python",
   "name": "python3"
  },
  "language_info": {
   "codemirror_mode": {
    "name": "ipython",
    "version": 3
   },
   "file_extension": ".py",
   "mimetype": "text/x-python",
   "name": "python",
   "nbconvert_exporter": "python",
   "pygments_lexer": "ipython3",
   "version": "3.9.10"
  }
 },
 "nbformat": 4,
 "nbformat_minor": 2
}
